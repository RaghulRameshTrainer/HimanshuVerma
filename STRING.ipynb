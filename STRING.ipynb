{
 "cells": [
  {
   "cell_type": "code",
   "execution_count": 1,
   "id": "d4407940",
   "metadata": {},
   "outputs": [],
   "source": [
    "company=\"A@m^&a!zo#$n!\""
   ]
  },
  {
   "cell_type": "code",
   "execution_count": 6,
   "id": "9867e456",
   "metadata": {},
   "outputs": [],
   "source": [
    "specialchars=company.maketrans('~!@#$%^&*()`-=_+','                ')"
   ]
  },
  {
   "cell_type": "code",
   "execution_count": 4,
   "id": "73bb925d",
   "metadata": {},
   "outputs": [
    {
     "data": {
      "text/plain": [
       "'A m  a zo  n '"
      ]
     },
     "execution_count": 4,
     "metadata": {},
     "output_type": "execute_result"
    }
   ],
   "source": [
    "company.translate(specialchars)"
   ]
  },
  {
   "cell_type": "code",
   "execution_count": 7,
   "id": "3aefe3ef",
   "metadata": {},
   "outputs": [
    {
     "data": {
      "text/plain": [
       "{126: 32,\n",
       " 33: 32,\n",
       " 64: 32,\n",
       " 35: 32,\n",
       " 36: 32,\n",
       " 37: 32,\n",
       " 94: 32,\n",
       " 38: 32,\n",
       " 42: 32,\n",
       " 40: 32,\n",
       " 41: 32,\n",
       " 96: 32,\n",
       " 45: 32,\n",
       " 61: 32,\n",
       " 95: 32,\n",
       " 43: 32}"
      ]
     },
     "execution_count": 7,
     "metadata": {},
     "output_type": "execute_result"
    }
   ],
   "source": [
    "specialchars"
   ]
  },
  {
   "cell_type": "code",
   "execution_count": 8,
   "id": "5f2c2ae7",
   "metadata": {},
   "outputs": [],
   "source": [
    "mychange={126: None,\n",
    " 33: None,\n",
    " 64: None,\n",
    " 35: None,\n",
    " 36: None,\n",
    " 37: None,\n",
    " 94: None,\n",
    " 38: None,\n",
    " 42: None,\n",
    " 40: None,\n",
    " 41: None,\n",
    " 96: None,\n",
    " 45: None,\n",
    " 61: None,\n",
    " 95: None,\n",
    " 43: None}"
   ]
  },
  {
   "cell_type": "code",
   "execution_count": 9,
   "id": "b61728a7",
   "metadata": {},
   "outputs": [
    {
     "data": {
      "text/plain": [
       "'Amazon'"
      ]
     },
     "execution_count": 9,
     "metadata": {},
     "output_type": "execute_result"
    }
   ],
   "source": [
    "company.translate(mychange)"
   ]
  },
  {
   "cell_type": "code",
   "execution_count": null,
   "id": "056aaacf",
   "metadata": {},
   "outputs": [],
   "source": [
    "#strip, lstrip, rstrip"
   ]
  },
  {
   "cell_type": "code",
   "execution_count": 10,
   "id": "6ffb9031",
   "metadata": {},
   "outputs": [],
   "source": [
    "name=\"      Raghul Ramesh         \""
   ]
  },
  {
   "cell_type": "code",
   "execution_count": 11,
   "id": "57f1244a",
   "metadata": {},
   "outputs": [
    {
     "data": {
      "text/plain": [
       "'      Raghul Ramesh         '"
      ]
     },
     "execution_count": 11,
     "metadata": {},
     "output_type": "execute_result"
    }
   ],
   "source": [
    "name"
   ]
  },
  {
   "cell_type": "code",
   "execution_count": 12,
   "id": "e03ce2d1",
   "metadata": {},
   "outputs": [
    {
     "data": {
      "text/plain": [
       "'Raghul Ramesh'"
      ]
     },
     "execution_count": 12,
     "metadata": {},
     "output_type": "execute_result"
    }
   ],
   "source": [
    "name.strip()"
   ]
  },
  {
   "cell_type": "code",
   "execution_count": 13,
   "id": "6f730432",
   "metadata": {},
   "outputs": [
    {
     "data": {
      "text/plain": [
       "'      Raghul Ramesh         '"
      ]
     },
     "execution_count": 13,
     "metadata": {},
     "output_type": "execute_result"
    }
   ],
   "source": [
    "name"
   ]
  },
  {
   "cell_type": "code",
   "execution_count": 14,
   "id": "5bb0112c",
   "metadata": {},
   "outputs": [
    {
     "data": {
      "text/plain": [
       "'Raghul Ramesh         '"
      ]
     },
     "execution_count": 14,
     "metadata": {},
     "output_type": "execute_result"
    }
   ],
   "source": [
    "name.lstrip()"
   ]
  },
  {
   "cell_type": "code",
   "execution_count": 16,
   "id": "04e0d3c6",
   "metadata": {},
   "outputs": [
    {
     "data": {
      "text/plain": [
       "'      Raghul Ramesh'"
      ]
     },
     "execution_count": 16,
     "metadata": {},
     "output_type": "execute_result"
    }
   ],
   "source": [
    "name.rstrip()"
   ]
  },
  {
   "cell_type": "code",
   "execution_count": 18,
   "id": "8066c47f",
   "metadata": {},
   "outputs": [],
   "source": [
    "name=\"Raghul Ramesh\""
   ]
  },
  {
   "cell_type": "code",
   "execution_count": 19,
   "id": "c49b4b6a",
   "metadata": {},
   "outputs": [
    {
     "data": {
      "text/plain": [
       "False"
      ]
     },
     "execution_count": 19,
     "metadata": {},
     "output_type": "execute_result"
    }
   ],
   "source": [
    "name.isupper()"
   ]
  },
  {
   "cell_type": "code",
   "execution_count": 20,
   "id": "6991e87b",
   "metadata": {},
   "outputs": [
    {
     "data": {
      "text/plain": [
       "False"
      ]
     },
     "execution_count": 20,
     "metadata": {},
     "output_type": "execute_result"
    }
   ],
   "source": [
    "name.islower()"
   ]
  },
  {
   "cell_type": "code",
   "execution_count": 21,
   "id": "25bdd7c5",
   "metadata": {},
   "outputs": [
    {
     "data": {
      "text/plain": [
       "True"
      ]
     },
     "execution_count": 21,
     "metadata": {},
     "output_type": "execute_result"
    }
   ],
   "source": [
    "name.istitle()"
   ]
  },
  {
   "cell_type": "code",
   "execution_count": 23,
   "id": "c7b5b751",
   "metadata": {},
   "outputs": [
    {
     "name": "stdout",
     "output_type": "stream",
     "text": [
      "['__add__', '__class__', '__contains__', '__delattr__', '__dir__', '__doc__', '__eq__', '__format__', '__ge__', '__getattribute__', '__getitem__', '__getnewargs__', '__gt__', '__hash__', '__init__', '__init_subclass__', '__iter__', '__le__', '__len__', '__lt__', '__mod__', '__mul__', '__ne__', '__new__', '__reduce__', '__reduce_ex__', '__repr__', '__rmod__', '__rmul__', '__setattr__', '__sizeof__', '__str__', '__subclasshook__', 'capitalize', 'casefold', 'center', 'count', 'encode', 'endswith', 'expandtabs', 'find', 'format', 'format_map', 'index', 'isalnum', 'isalpha', 'isascii', 'isdecimal', 'isdigit', 'isidentifier', 'islower', 'isnumeric', 'isprintable', 'isspace', 'istitle', 'isupper', 'join', 'ljust', 'lower', 'lstrip', 'maketrans', 'partition', 'replace', 'rfind', 'rindex', 'rjust', 'rpartition', 'rsplit', 'rstrip', 'split', 'splitlines', 'startswith', 'strip', 'swapcase', 'title', 'translate', 'upper', 'zfill']\n"
     ]
    }
   ],
   "source": [
    "print(dir(name))"
   ]
  },
  {
   "cell_type": "code",
   "execution_count": 24,
   "id": "0ef759c3",
   "metadata": {},
   "outputs": [
    {
     "name": "stdout",
     "output_type": "stream",
     "text": [
      "Help on built-in function zfill:\n",
      "\n",
      "zfill(width, /) method of builtins.str instance\n",
      "    Pad a numeric string with zeros on the left, to fill a field of the given width.\n",
      "    \n",
      "    The string is never truncated.\n",
      "\n"
     ]
    }
   ],
   "source": [
    "help(name.zfill)"
   ]
  },
  {
   "cell_type": "code",
   "execution_count": 26,
   "id": "ba4a46e0",
   "metadata": {},
   "outputs": [
    {
     "data": {
      "text/plain": [
       "True"
      ]
     },
     "execution_count": 26,
     "metadata": {},
     "output_type": "execute_result"
    }
   ],
   "source": [
    "name.startswith('R')"
   ]
  },
  {
   "cell_type": "code",
   "execution_count": 27,
   "id": "2d128ce5",
   "metadata": {},
   "outputs": [
    {
     "data": {
      "text/plain": [
       "True"
      ]
     },
     "execution_count": 27,
     "metadata": {},
     "output_type": "execute_result"
    }
   ],
   "source": [
    "name.endswith('h')"
   ]
  },
  {
   "cell_type": "code",
   "execution_count": 28,
   "id": "09e693ca",
   "metadata": {},
   "outputs": [
    {
     "data": {
      "text/plain": [
       "'Raghul Ramesh'"
      ]
     },
     "execution_count": 28,
     "metadata": {},
     "output_type": "execute_result"
    }
   ],
   "source": [
    "name"
   ]
  },
  {
   "cell_type": "code",
   "execution_count": 29,
   "id": "7e63d23f",
   "metadata": {},
   "outputs": [
    {
     "data": {
      "text/plain": [
       "False"
      ]
     },
     "execution_count": 29,
     "metadata": {},
     "output_type": "execute_result"
    }
   ],
   "source": [
    "name.isspace()"
   ]
  },
  {
   "cell_type": "code",
   "execution_count": 30,
   "id": "64b39fa3",
   "metadata": {},
   "outputs": [],
   "source": [
    "age=' '"
   ]
  },
  {
   "cell_type": "code",
   "execution_count": 31,
   "id": "c4bd669f",
   "metadata": {},
   "outputs": [
    {
     "data": {
      "text/plain": [
       "True"
      ]
     },
     "execution_count": 31,
     "metadata": {},
     "output_type": "execute_result"
    }
   ],
   "source": [
    "age.isspace()"
   ]
  },
  {
   "cell_type": "code",
   "execution_count": 32,
   "id": "30ac4e73",
   "metadata": {},
   "outputs": [],
   "source": [
    "empid=\"SC6473822\""
   ]
  },
  {
   "cell_type": "code",
   "execution_count": 33,
   "id": "590b86a2",
   "metadata": {},
   "outputs": [
    {
     "data": {
      "text/plain": [
       "True"
      ]
     },
     "execution_count": 33,
     "metadata": {},
     "output_type": "execute_result"
    }
   ],
   "source": [
    "empid.isalnum()"
   ]
  },
  {
   "cell_type": "code",
   "execution_count": 34,
   "id": "24d01581",
   "metadata": {},
   "outputs": [],
   "source": [
    "age='38'"
   ]
  },
  {
   "cell_type": "code",
   "execution_count": 35,
   "id": "3db1fb8e",
   "metadata": {},
   "outputs": [
    {
     "data": {
      "text/plain": [
       "True"
      ]
     },
     "execution_count": 35,
     "metadata": {},
     "output_type": "execute_result"
    }
   ],
   "source": [
    "age.isdigit()"
   ]
  },
  {
   "cell_type": "code",
   "execution_count": 36,
   "id": "b250561b",
   "metadata": {},
   "outputs": [
    {
     "data": {
      "text/plain": [
       "'Raghul Ramesh'"
      ]
     },
     "execution_count": 36,
     "metadata": {},
     "output_type": "execute_result"
    }
   ],
   "source": [
    "name"
   ]
  },
  {
   "cell_type": "code",
   "execution_count": 37,
   "id": "9a6a627e",
   "metadata": {},
   "outputs": [
    {
     "data": {
      "text/plain": [
       "False"
      ]
     },
     "execution_count": 37,
     "metadata": {},
     "output_type": "execute_result"
    }
   ],
   "source": [
    "name.isdigit()"
   ]
  },
  {
   "cell_type": "code",
   "execution_count": 38,
   "id": "083a1edc",
   "metadata": {},
   "outputs": [
    {
     "data": {
      "text/plain": [
       "'Raghul Ramesh'"
      ]
     },
     "execution_count": 38,
     "metadata": {},
     "output_type": "execute_result"
    }
   ],
   "source": [
    "name"
   ]
  },
  {
   "cell_type": "code",
   "execution_count": 39,
   "id": "59490e10",
   "metadata": {},
   "outputs": [
    {
     "data": {
      "text/plain": [
       "2"
      ]
     },
     "execution_count": 39,
     "metadata": {},
     "output_type": "execute_result"
    }
   ],
   "source": [
    "name.count('R')"
   ]
  },
  {
   "cell_type": "code",
   "execution_count": 40,
   "id": "2d9487a4",
   "metadata": {},
   "outputs": [
    {
     "data": {
      "text/plain": [
       "2"
      ]
     },
     "execution_count": 40,
     "metadata": {},
     "output_type": "execute_result"
    }
   ],
   "source": [
    "name.count('Ra')"
   ]
  },
  {
   "cell_type": "code",
   "execution_count": 41,
   "id": "cc92bb30",
   "metadata": {},
   "outputs": [
    {
     "data": {
      "text/plain": [
       "1"
      ]
     },
     "execution_count": 41,
     "metadata": {},
     "output_type": "execute_result"
    }
   ],
   "source": [
    "name.count('Ram')"
   ]
  },
  {
   "cell_type": "code",
   "execution_count": 42,
   "id": "49954feb",
   "metadata": {},
   "outputs": [],
   "source": [
    "city=\"Chennai-Bangalore-Hyderabad-Pune-Delhi\""
   ]
  },
  {
   "cell_type": "code",
   "execution_count": 44,
   "id": "38db19db",
   "metadata": {},
   "outputs": [],
   "source": [
    "new_city=city.split(\"-\")"
   ]
  },
  {
   "cell_type": "code",
   "execution_count": 45,
   "id": "dfec064d",
   "metadata": {},
   "outputs": [
    {
     "data": {
      "text/plain": [
       "['Chennai', 'Bangalore', 'Hyderabad', 'Pune', 'Delhi']"
      ]
     },
     "execution_count": 45,
     "metadata": {},
     "output_type": "execute_result"
    }
   ],
   "source": [
    "new_city"
   ]
  },
  {
   "cell_type": "code",
   "execution_count": 46,
   "id": "395caa4f",
   "metadata": {},
   "outputs": [
    {
     "data": {
      "text/plain": [
       "list"
      ]
     },
     "execution_count": 46,
     "metadata": {},
     "output_type": "execute_result"
    }
   ],
   "source": [
    "type(new_city)"
   ]
  },
  {
   "cell_type": "code",
   "execution_count": 48,
   "id": "d65452e8",
   "metadata": {},
   "outputs": [],
   "source": [
    "city_2=\":\".join(new_city)"
   ]
  },
  {
   "cell_type": "code",
   "execution_count": null,
   "id": "8e3ca4da",
   "metadata": {},
   "outputs": [],
   "source": [
    "type(city_2)"
   ]
  }
 ],
 "metadata": {
  "kernelspec": {
   "display_name": "Python 3 (ipykernel)",
   "language": "python",
   "name": "python3"
  },
  "language_info": {
   "codemirror_mode": {
    "name": "ipython",
    "version": 3
   },
   "file_extension": ".py",
   "mimetype": "text/x-python",
   "name": "python",
   "nbconvert_exporter": "python",
   "pygments_lexer": "ipython3",
   "version": "3.8.10"
  }
 },
 "nbformat": 4,
 "nbformat_minor": 5
}
