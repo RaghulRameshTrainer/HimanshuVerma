{
 "cells": [
  {
   "cell_type": "markdown",
   "id": "61480f3b",
   "metadata": {},
   "source": [
    "# Conditional Statements"
   ]
  },
  {
   "cell_type": "code",
   "execution_count": 1,
   "id": "53218ce0",
   "metadata": {},
   "outputs": [
    {
     "name": "stdout",
     "output_type": "stream",
     "text": [
      "Validation successfull!\n",
      "The value of x is : 10\n"
     ]
    }
   ],
   "source": [
    "x=10\n",
    "\n",
    "if x==10:\n",
    "    print(\"Validation successfull!\")\n",
    "    print(\"The value of x is :\", x)"
   ]
  },
  {
   "cell_type": "code",
   "execution_count": 2,
   "id": "f2ec5b98",
   "metadata": {},
   "outputs": [
    {
     "name": "stdout",
     "output_type": "stream",
     "text": [
      "x is : 10\n"
     ]
    }
   ],
   "source": [
    "if x==0:\n",
    "    print(\"it is zero\")\n",
    "else:\n",
    "    print(\"x is :\",x)"
   ]
  },
  {
   "cell_type": "code",
   "execution_count": 7,
   "id": "85043a12",
   "metadata": {},
   "outputs": [
    {
     "name": "stdout",
     "output_type": "stream",
     "text": [
      "x is : 1000\n"
     ]
    }
   ],
   "source": [
    "x=1000\n",
    "if x == 0:\n",
    "    print(\"ZERO\")\n",
    "elif x==10:\n",
    "    print(\"TEN\")\n",
    "elif x==100:\n",
    "    print(\"HUNDRED\")\n",
    "else:\n",
    "    print(\"x is :\",x)"
   ]
  },
  {
   "cell_type": "markdown",
   "id": "1c12c49c",
   "metadata": {},
   "source": [
    "# input"
   ]
  },
  {
   "cell_type": "code",
   "execution_count": 10,
   "id": "3dc7b983",
   "metadata": {},
   "outputs": [
    {
     "name": "stdout",
     "output_type": "stream",
     "text": [
      "Enter the value of x:10\n",
      "<class 'int'>\n"
     ]
    }
   ],
   "source": [
    "x=int(input(\"Enter the value of x:\"))\n",
    "print(type(x))"
   ]
  },
  {
   "cell_type": "code",
   "execution_count": 17,
   "id": "521c293a",
   "metadata": {},
   "outputs": [
    {
     "name": "stdout",
     "output_type": "stream",
     "text": [
      "Enter your country name: India\n",
      "Enter your age: 100\n",
      "You can vote\n"
     ]
    }
   ],
   "source": [
    "country=input(\"Enter your country name: \")\n",
    "age=int(input(\"Enter your age: \"))\n",
    "\n",
    "# Write a logic to check the age and country\n",
    "if country=='India':\n",
    "    if age>=18:\n",
    "        print(\"You can vote\")\n",
    "    else:\n",
    "        print(\"You can't go for voting!\")\n",
    "else:\n",
    "    print(\"Please follow your country : {} standards. You are {} years old!\".format(country,age))"
   ]
  },
  {
   "cell_type": "markdown",
   "id": "3d86464c",
   "metadata": {},
   "source": [
    "## print"
   ]
  },
  {
   "cell_type": "code",
   "execution_count": 18,
   "id": "b4bedb78",
   "metadata": {},
   "outputs": [],
   "source": [
    "name=\"Raghul Ramesh\"\n",
    "city=\"Chennai\"\n",
    "tech=\"Python\""
   ]
  },
  {
   "cell_type": "code",
   "execution_count": 20,
   "id": "28121e8a",
   "metadata": {},
   "outputs": [
    {
     "name": "stdout",
     "output_type": "stream",
     "text": [
      "Trainer name : Raghul Ramesh\n"
     ]
    }
   ],
   "source": [
    "print(\"Trainer name :\",name)"
   ]
  },
  {
   "cell_type": "code",
   "execution_count": 26,
   "id": "8d2d5aeb",
   "metadata": {},
   "outputs": [
    {
     "name": "stdout",
     "output_type": "stream",
     "text": [
      "Trainer [] is from Chennai\n"
     ]
    }
   ],
   "source": [
    "print(f\"Trainer is from {city}\")"
   ]
  },
  {
   "cell_type": "markdown",
   "id": "206474b1",
   "metadata": {},
   "source": [
    "# LOOPS"
   ]
  },
  {
   "cell_type": "code",
   "execution_count": null,
   "id": "8353783d",
   "metadata": {},
   "outputs": [],
   "source": [
    "#while , for\n",
    "\n",
    "# while <condition>:\n",
    "#     true statements\n",
    "    \n",
    "x=0\n",
    "\n",
    "while x<=10:\n",
    "    print(\"x is: \", x)\n",
    "    x=x+1"
   ]
  }
 ],
 "metadata": {
  "kernelspec": {
   "display_name": "Python 3 (ipykernel)",
   "language": "python",
   "name": "python3"
  },
  "language_info": {
   "codemirror_mode": {
    "name": "ipython",
    "version": 3
   },
   "file_extension": ".py",
   "mimetype": "text/x-python",
   "name": "python",
   "nbconvert_exporter": "python",
   "pygments_lexer": "ipython3",
   "version": "3.8.10"
  }
 },
 "nbformat": 4,
 "nbformat_minor": 5
}
