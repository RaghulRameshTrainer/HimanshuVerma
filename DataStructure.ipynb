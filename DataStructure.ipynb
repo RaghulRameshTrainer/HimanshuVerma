{
 "cells": [
  {
   "cell_type": "code",
   "execution_count": 2,
   "id": "d526b456",
   "metadata": {},
   "outputs": [],
   "source": [
    "name=\"Raghul Ramesh\""
   ]
  },
  {
   "cell_type": "code",
   "execution_count": 3,
   "id": "0e2a710d",
   "metadata": {},
   "outputs": [
    {
     "name": "stdout",
     "output_type": "stream",
     "text": [
      "['__add__', '__class__', '__contains__', '__delattr__', '__dir__', '__doc__', '__eq__', '__format__', '__ge__', '__getattribute__', '__getitem__', '__getnewargs__', '__gt__', '__hash__', '__init__', '__init_subclass__', '__iter__', '__le__', '__len__', '__lt__', '__mod__', '__mul__', '__ne__', '__new__', '__reduce__', '__reduce_ex__', '__repr__', '__rmod__', '__rmul__', '__setattr__', '__sizeof__', '__str__', '__subclasshook__', 'capitalize', 'casefold', 'center', 'count', 'encode', 'endswith', 'expandtabs', 'find', 'format', 'format_map', 'index', 'isalnum', 'isalpha', 'isascii', 'isdecimal', 'isdigit', 'isidentifier', 'islower', 'isnumeric', 'isprintable', 'isspace', 'istitle', 'isupper', 'join', 'ljust', 'lower', 'lstrip', 'maketrans', 'partition', 'replace', 'rfind', 'rindex', 'rjust', 'rpartition', 'rsplit', 'rstrip', 'split', 'splitlines', 'startswith', 'strip', 'swapcase', 'title', 'translate', 'upper', 'zfill']\n"
     ]
    }
   ],
   "source": [
    "print(dir(name))"
   ]
  },
  {
   "cell_type": "code",
   "execution_count": 4,
   "id": "aa669c51",
   "metadata": {},
   "outputs": [
    {
     "data": {
      "text/plain": [
       "'Raghul Ramesh'"
      ]
     },
     "execution_count": 4,
     "metadata": {},
     "output_type": "execute_result"
    }
   ],
   "source": [
    "name"
   ]
  },
  {
   "cell_type": "code",
   "execution_count": 5,
   "id": "292c9f57",
   "metadata": {},
   "outputs": [],
   "source": [
    "name=name+ ' Chennai'"
   ]
  },
  {
   "cell_type": "code",
   "execution_count": 6,
   "id": "657db4ca",
   "metadata": {},
   "outputs": [
    {
     "data": {
      "text/plain": [
       "'Raghul Ramesh Chennai'"
      ]
     },
     "execution_count": 6,
     "metadata": {},
     "output_type": "execute_result"
    }
   ],
   "source": [
    "name"
   ]
  },
  {
   "cell_type": "code",
   "execution_count": 7,
   "id": "76915de6",
   "metadata": {},
   "outputs": [],
   "source": [
    "name=\"Raghul Ramesh\""
   ]
  },
  {
   "cell_type": "code",
   "execution_count": 8,
   "id": "95b77f59",
   "metadata": {},
   "outputs": [
    {
     "data": {
      "text/plain": [
       "1729390580592"
      ]
     },
     "execution_count": 8,
     "metadata": {},
     "output_type": "execute_result"
    }
   ],
   "source": [
    "id(name)"
   ]
  },
  {
   "cell_type": "code",
   "execution_count": 9,
   "id": "ea67d8af",
   "metadata": {},
   "outputs": [],
   "source": [
    "name=name+ ' Chennai'"
   ]
  },
  {
   "cell_type": "code",
   "execution_count": 10,
   "id": "0ad15139",
   "metadata": {},
   "outputs": [
    {
     "data": {
      "text/plain": [
       "1729390853696"
      ]
     },
     "execution_count": 10,
     "metadata": {},
     "output_type": "execute_result"
    }
   ],
   "source": [
    "id(name)"
   ]
  },
  {
   "cell_type": "code",
   "execution_count": 11,
   "id": "3035c84c",
   "metadata": {},
   "outputs": [
    {
     "data": {
      "text/plain": [
       "'Raghul Ramesh Chennai'"
      ]
     },
     "execution_count": 11,
     "metadata": {},
     "output_type": "execute_result"
    }
   ],
   "source": [
    "name"
   ]
  },
  {
   "cell_type": "code",
   "execution_count": 13,
   "id": "33343ef7",
   "metadata": {},
   "outputs": [
    {
     "name": "stdout",
     "output_type": "stream",
     "text": [
      "Memory Location: 1729390853696\n"
     ]
    }
   ],
   "source": [
    "print(\"Memory Location:\",id(name))"
   ]
  },
  {
   "cell_type": "code",
   "execution_count": 14,
   "id": "9601a6bc",
   "metadata": {},
   "outputs": [
    {
     "name": "stdout",
     "output_type": "stream",
     "text": [
      "Raghul Ramesh Chennai\n"
     ]
    }
   ],
   "source": [
    "print(name)"
   ]
  },
  {
   "cell_type": "code",
   "execution_count": 15,
   "id": "13adb8f9",
   "metadata": {},
   "outputs": [],
   "source": [
    "name=\"Raghul Ramesh\""
   ]
  },
  {
   "cell_type": "code",
   "execution_count": 16,
   "id": "46b739d8",
   "metadata": {},
   "outputs": [
    {
     "data": {
      "text/plain": [
       "'RAGHUL RAMESH'"
      ]
     },
     "execution_count": 16,
     "metadata": {},
     "output_type": "execute_result"
    }
   ],
   "source": [
    "name.upper()"
   ]
  },
  {
   "cell_type": "code",
   "execution_count": 17,
   "id": "96980742",
   "metadata": {},
   "outputs": [
    {
     "data": {
      "text/plain": [
       "'Raghul Ramesh'"
      ]
     },
     "execution_count": 17,
     "metadata": {},
     "output_type": "execute_result"
    }
   ],
   "source": [
    "name"
   ]
  },
  {
   "cell_type": "code",
   "execution_count": 18,
   "id": "1fd228e9",
   "metadata": {},
   "outputs": [
    {
     "data": {
      "text/plain": [
       "'raghul ramesh'"
      ]
     },
     "execution_count": 18,
     "metadata": {},
     "output_type": "execute_result"
    }
   ],
   "source": [
    "name.lower()"
   ]
  },
  {
   "cell_type": "code",
   "execution_count": 19,
   "id": "df9274d2",
   "metadata": {},
   "outputs": [
    {
     "data": {
      "text/plain": [
       "'Raghul Ramesh'"
      ]
     },
     "execution_count": 19,
     "metadata": {},
     "output_type": "execute_result"
    }
   ],
   "source": [
    "name"
   ]
  },
  {
   "cell_type": "code",
   "execution_count": 20,
   "id": "e18e3a82",
   "metadata": {},
   "outputs": [
    {
     "data": {
      "text/plain": [
       "'rAGHUL rAMESH'"
      ]
     },
     "execution_count": 20,
     "metadata": {},
     "output_type": "execute_result"
    }
   ],
   "source": [
    "name.swapcase()"
   ]
  },
  {
   "cell_type": "code",
   "execution_count": 22,
   "id": "8d513230",
   "metadata": {},
   "outputs": [],
   "source": [
    "name=\"raghul ramesh\""
   ]
  },
  {
   "cell_type": "code",
   "execution_count": 23,
   "id": "0c3e9460",
   "metadata": {},
   "outputs": [
    {
     "data": {
      "text/plain": [
       "'raghul ramesh'"
      ]
     },
     "execution_count": 23,
     "metadata": {},
     "output_type": "execute_result"
    }
   ],
   "source": [
    "name"
   ]
  },
  {
   "cell_type": "code",
   "execution_count": 24,
   "id": "55182c1a",
   "metadata": {},
   "outputs": [
    {
     "data": {
      "text/plain": [
       "'Raghul Ramesh'"
      ]
     },
     "execution_count": 24,
     "metadata": {},
     "output_type": "execute_result"
    }
   ],
   "source": [
    "name.title()"
   ]
  },
  {
   "cell_type": "code",
   "execution_count": 25,
   "id": "f3982316",
   "metadata": {},
   "outputs": [
    {
     "data": {
      "text/plain": [
       "'raghul ramesh'"
      ]
     },
     "execution_count": 25,
     "metadata": {},
     "output_type": "execute_result"
    }
   ],
   "source": [
    "name"
   ]
  },
  {
   "cell_type": "code",
   "execution_count": 26,
   "id": "aa2b0527",
   "metadata": {},
   "outputs": [
    {
     "data": {
      "text/plain": [
       "'Raghul ramesh'"
      ]
     },
     "execution_count": 26,
     "metadata": {},
     "output_type": "execute_result"
    }
   ],
   "source": [
    "name.capitalize()"
   ]
  },
  {
   "cell_type": "code",
   "execution_count": 28,
   "id": "98b4457e",
   "metadata": {},
   "outputs": [],
   "source": [
    "encoded_name=name.encode()"
   ]
  },
  {
   "cell_type": "code",
   "execution_count": 29,
   "id": "e1722708",
   "metadata": {},
   "outputs": [
    {
     "data": {
      "text/plain": [
       "b'raghul ramesh'"
      ]
     },
     "execution_count": 29,
     "metadata": {},
     "output_type": "execute_result"
    }
   ],
   "source": [
    "encoded_name"
   ]
  },
  {
   "cell_type": "code",
   "execution_count": 30,
   "id": "4327d9e0",
   "metadata": {},
   "outputs": [
    {
     "data": {
      "text/plain": [
       "'raghul ramesh'"
      ]
     },
     "execution_count": 30,
     "metadata": {},
     "output_type": "execute_result"
    }
   ],
   "source": [
    "encoded_name.decode()"
   ]
  },
  {
   "cell_type": "markdown",
   "id": "1692764b",
   "metadata": {},
   "source": [
    "# center, ljust, rjust, zfill"
   ]
  },
  {
   "cell_type": "code",
   "execution_count": 31,
   "id": "ee97c3b9",
   "metadata": {},
   "outputs": [],
   "source": [
    "name=\"Raghul Ramesh\""
   ]
  },
  {
   "cell_type": "code",
   "execution_count": 32,
   "id": "0565f52c",
   "metadata": {},
   "outputs": [
    {
     "data": {
      "text/plain": [
       "13"
      ]
     },
     "execution_count": 32,
     "metadata": {},
     "output_type": "execute_result"
    }
   ],
   "source": [
    "len(name)"
   ]
  },
  {
   "cell_type": "code",
   "execution_count": 33,
   "id": "6574da39",
   "metadata": {},
   "outputs": [
    {
     "data": {
      "text/plain": [
       "'                  Raghul Ramesh                   '"
      ]
     },
     "execution_count": 33,
     "metadata": {},
     "output_type": "execute_result"
    }
   ],
   "source": [
    "name.center(50)"
   ]
  },
  {
   "cell_type": "code",
   "execution_count": 34,
   "id": "fa80295c",
   "metadata": {},
   "outputs": [
    {
     "data": {
      "text/plain": [
       "'..................Raghul Ramesh...................'"
      ]
     },
     "execution_count": 34,
     "metadata": {},
     "output_type": "execute_result"
    }
   ],
   "source": [
    "name.center(50,'.')"
   ]
  },
  {
   "cell_type": "code",
   "execution_count": 35,
   "id": "bf801dc1",
   "metadata": {},
   "outputs": [
    {
     "data": {
      "text/plain": [
       "'------------------Raghul Ramesh-------------------'"
      ]
     },
     "execution_count": 35,
     "metadata": {},
     "output_type": "execute_result"
    }
   ],
   "source": [
    "name.center(50,\"-\")"
   ]
  },
  {
   "cell_type": "code",
   "execution_count": 36,
   "id": "a6bc7d9d",
   "metadata": {},
   "outputs": [
    {
     "data": {
      "text/plain": [
       "'__________________Raghul Ramesh___________________'"
      ]
     },
     "execution_count": 36,
     "metadata": {},
     "output_type": "execute_result"
    }
   ],
   "source": [
    "name.center(50,\"_\")"
   ]
  },
  {
   "cell_type": "code",
   "execution_count": 37,
   "id": "4042c783",
   "metadata": {},
   "outputs": [
    {
     "data": {
      "text/plain": [
       "'Raghul Ramesh                                     '"
      ]
     },
     "execution_count": 37,
     "metadata": {},
     "output_type": "execute_result"
    }
   ],
   "source": [
    "name.ljust(50)"
   ]
  },
  {
   "cell_type": "code",
   "execution_count": 38,
   "id": "db1afd01",
   "metadata": {},
   "outputs": [
    {
     "data": {
      "text/plain": [
       "'Raghul Ramesh.....................................'"
      ]
     },
     "execution_count": 38,
     "metadata": {},
     "output_type": "execute_result"
    }
   ],
   "source": [
    "name.ljust(50,'.')"
   ]
  },
  {
   "cell_type": "code",
   "execution_count": 39,
   "id": "0e8a62ae",
   "metadata": {},
   "outputs": [
    {
     "data": {
      "text/plain": [
       "'                                     Raghul Ramesh'"
      ]
     },
     "execution_count": 39,
     "metadata": {},
     "output_type": "execute_result"
    }
   ],
   "source": [
    "name.rjust(50)"
   ]
  },
  {
   "cell_type": "code",
   "execution_count": 40,
   "id": "ab387253",
   "metadata": {},
   "outputs": [],
   "source": [
    "salary='100000'"
   ]
  },
  {
   "cell_type": "code",
   "execution_count": 41,
   "id": "3e848c5c",
   "metadata": {},
   "outputs": [
    {
     "data": {
      "text/plain": [
       "str"
      ]
     },
     "execution_count": 41,
     "metadata": {},
     "output_type": "execute_result"
    }
   ],
   "source": [
    "type(salary)"
   ]
  },
  {
   "cell_type": "code",
   "execution_count": 42,
   "id": "e4cb32ad",
   "metadata": {},
   "outputs": [
    {
     "data": {
      "text/plain": [
       "'1000000000'"
      ]
     },
     "execution_count": 42,
     "metadata": {},
     "output_type": "execute_result"
    }
   ],
   "source": [
    "salary.ljust(10,'0')"
   ]
  },
  {
   "cell_type": "code",
   "execution_count": 47,
   "id": "86af19f9",
   "metadata": {},
   "outputs": [
    {
     "data": {
      "text/plain": [
       "'0000100000'"
      ]
     },
     "execution_count": 47,
     "metadata": {},
     "output_type": "execute_result"
    }
   ],
   "source": [
    "salary.zfill(10)"
   ]
  },
  {
   "cell_type": "markdown",
   "id": "0f64bcc2",
   "metadata": {},
   "source": [
    "# index, find, rindex, rfind"
   ]
  },
  {
   "cell_type": "code",
   "execution_count": 48,
   "id": "baee26ac",
   "metadata": {},
   "outputs": [
    {
     "data": {
      "text/plain": [
       "'Raghul Ramesh'"
      ]
     },
     "execution_count": 48,
     "metadata": {},
     "output_type": "execute_result"
    }
   ],
   "source": [
    "name"
   ]
  },
  {
   "cell_type": "code",
   "execution_count": 49,
   "id": "6ec0e5d2",
   "metadata": {},
   "outputs": [
    {
     "data": {
      "text/plain": [
       "0"
      ]
     },
     "execution_count": 49,
     "metadata": {},
     "output_type": "execute_result"
    }
   ],
   "source": [
    "name.index('R')"
   ]
  },
  {
   "cell_type": "code",
   "execution_count": 50,
   "id": "5e778e06",
   "metadata": {},
   "outputs": [
    {
     "name": "stdout",
     "output_type": "stream",
     "text": [
      "Help on built-in function index:\n",
      "\n",
      "index(...) method of builtins.str instance\n",
      "    S.index(sub[, start[, end]]) -> int\n",
      "    \n",
      "    Return the lowest index in S where substring sub is found,\n",
      "    such that sub is contained within S[start:end].  Optional\n",
      "    arguments start and end are interpreted as in slice notation.\n",
      "    \n",
      "    Raises ValueError when the substring is not found.\n",
      "\n"
     ]
    }
   ],
   "source": [
    "help(name.index)"
   ]
  },
  {
   "cell_type": "code",
   "execution_count": 51,
   "id": "956ace32",
   "metadata": {},
   "outputs": [
    {
     "data": {
      "text/plain": [
       "7"
      ]
     },
     "execution_count": 51,
     "metadata": {},
     "output_type": "execute_result"
    }
   ],
   "source": [
    "name.index('R',1)"
   ]
  },
  {
   "cell_type": "code",
   "execution_count": 52,
   "id": "0307426a",
   "metadata": {},
   "outputs": [
    {
     "data": {
      "text/plain": [
       "'Raghul Ramesh'"
      ]
     },
     "execution_count": 52,
     "metadata": {},
     "output_type": "execute_result"
    }
   ],
   "source": [
    "name"
   ]
  },
  {
   "cell_type": "code",
   "execution_count": 53,
   "id": "ebe6a308",
   "metadata": {},
   "outputs": [
    {
     "data": {
      "text/plain": [
       "7"
      ]
     },
     "execution_count": 53,
     "metadata": {},
     "output_type": "execute_result"
    }
   ],
   "source": [
    "name.rindex('R')"
   ]
  },
  {
   "cell_type": "code",
   "execution_count": 54,
   "id": "738aa2e0",
   "metadata": {},
   "outputs": [
    {
     "data": {
      "text/plain": [
       "0"
      ]
     },
     "execution_count": 54,
     "metadata": {},
     "output_type": "execute_result"
    }
   ],
   "source": [
    "name.find('R')"
   ]
  },
  {
   "cell_type": "code",
   "execution_count": 56,
   "id": "3265ab4e",
   "metadata": {},
   "outputs": [
    {
     "data": {
      "text/plain": [
       "7"
      ]
     },
     "execution_count": 56,
     "metadata": {},
     "output_type": "execute_result"
    }
   ],
   "source": [
    "name.find('R',1)"
   ]
  },
  {
   "cell_type": "code",
   "execution_count": 57,
   "id": "334f9092",
   "metadata": {},
   "outputs": [
    {
     "data": {
      "text/plain": [
       "7"
      ]
     },
     "execution_count": 57,
     "metadata": {},
     "output_type": "execute_result"
    }
   ],
   "source": [
    "name.rfind('R')"
   ]
  },
  {
   "cell_type": "code",
   "execution_count": 58,
   "id": "4e6ca36e",
   "metadata": {},
   "outputs": [
    {
     "data": {
      "text/plain": [
       "'Raghul Ramesh'"
      ]
     },
     "execution_count": 58,
     "metadata": {},
     "output_type": "execute_result"
    }
   ],
   "source": [
    "name"
   ]
  },
  {
   "cell_type": "code",
   "execution_count": 59,
   "id": "77cc478c",
   "metadata": {},
   "outputs": [
    {
     "ename": "ValueError",
     "evalue": "substring not found",
     "output_type": "error",
     "traceback": [
      "\u001b[1;31m---------------------------------------------------------------------------\u001b[0m",
      "\u001b[1;31mValueError\u001b[0m                                Traceback (most recent call last)",
      "Input \u001b[1;32mIn [59]\u001b[0m, in \u001b[0;36m<cell line: 1>\u001b[1;34m()\u001b[0m\n\u001b[1;32m----> 1\u001b[0m \u001b[43mname\u001b[49m\u001b[38;5;241;43m.\u001b[39;49m\u001b[43mindex\u001b[49m\u001b[43m(\u001b[49m\u001b[38;5;124;43m'\u001b[39;49m\u001b[38;5;124;43mz\u001b[39;49m\u001b[38;5;124;43m'\u001b[39;49m\u001b[43m)\u001b[49m\n",
      "\u001b[1;31mValueError\u001b[0m: substring not found"
     ]
    }
   ],
   "source": [
    "name.index('z')"
   ]
  },
  {
   "cell_type": "code",
   "execution_count": 60,
   "id": "0f26f2a7",
   "metadata": {},
   "outputs": [
    {
     "data": {
      "text/plain": [
       "-1"
      ]
     },
     "execution_count": 60,
     "metadata": {},
     "output_type": "execute_result"
    }
   ],
   "source": [
    "name.find('z')"
   ]
  },
  {
   "cell_type": "markdown",
   "id": "c410774d",
   "metadata": {},
   "source": [
    "# replace, translate, maketrans"
   ]
  },
  {
   "cell_type": "code",
   "execution_count": 61,
   "id": "ba94d889",
   "metadata": {},
   "outputs": [
    {
     "data": {
      "text/plain": [
       "'Raghul Ramesh'"
      ]
     },
     "execution_count": 61,
     "metadata": {},
     "output_type": "execute_result"
    }
   ],
   "source": [
    "name"
   ]
  },
  {
   "cell_type": "code",
   "execution_count": 64,
   "id": "55a0415a",
   "metadata": {},
   "outputs": [],
   "source": [
    "city='Chennai-Bangalore-Hyderabad-Pune-Mumbai-Kolkatta-Gurgoan-Delhi-Pune'"
   ]
  },
  {
   "cell_type": "code",
   "execution_count": 65,
   "id": "8dc39652",
   "metadata": {},
   "outputs": [
    {
     "data": {
      "text/plain": [
       "'Chennai-Bangalore-Hyderabad-Ahmedabad-Mumbai-Kolkatta-Gurgoan-Delhi-Ahmedabad'"
      ]
     },
     "execution_count": 65,
     "metadata": {},
     "output_type": "execute_result"
    }
   ],
   "source": [
    "city.replace('Pune','Ahmedabad')"
   ]
  },
  {
   "cell_type": "code",
   "execution_count": 66,
   "id": "0db86137",
   "metadata": {},
   "outputs": [
    {
     "data": {
      "text/plain": [
       "'Raghul Ramesh'"
      ]
     },
     "execution_count": 66,
     "metadata": {},
     "output_type": "execute_result"
    }
   ],
   "source": [
    "name"
   ]
  },
  {
   "cell_type": "code",
   "execution_count": 67,
   "id": "67448263",
   "metadata": {},
   "outputs": [],
   "source": [
    "#aeiou - AEIOU"
   ]
  },
  {
   "cell_type": "code",
   "execution_count": 69,
   "id": "1e73595d",
   "metadata": {},
   "outputs": [],
   "source": [
    "name1=name.replace('a','A')"
   ]
  },
  {
   "cell_type": "code",
   "execution_count": 72,
   "id": "f3f316d4",
   "metadata": {},
   "outputs": [],
   "source": [
    "name2=name1.replace('e','E')"
   ]
  },
  {
   "cell_type": "code",
   "execution_count": 73,
   "id": "c3157f5b",
   "metadata": {},
   "outputs": [
    {
     "data": {
      "text/plain": [
       "'Raghul Ramesh'"
      ]
     },
     "execution_count": 73,
     "metadata": {},
     "output_type": "execute_result"
    }
   ],
   "source": [
    "name"
   ]
  },
  {
   "cell_type": "code",
   "execution_count": 74,
   "id": "1b9917f9",
   "metadata": {},
   "outputs": [
    {
     "ename": "TypeError",
     "evalue": "translate() takes exactly one argument (2 given)",
     "output_type": "error",
     "traceback": [
      "\u001b[1;31m---------------------------------------------------------------------------\u001b[0m",
      "\u001b[1;31mTypeError\u001b[0m                                 Traceback (most recent call last)",
      "Input \u001b[1;32mIn [74]\u001b[0m, in \u001b[0;36m<cell line: 1>\u001b[1;34m()\u001b[0m\n\u001b[1;32m----> 1\u001b[0m \u001b[43mname\u001b[49m\u001b[38;5;241;43m.\u001b[39;49m\u001b[43mtranslate\u001b[49m\u001b[43m(\u001b[49m\u001b[38;5;124;43m'\u001b[39;49m\u001b[38;5;124;43maeiou\u001b[39;49m\u001b[38;5;124;43m'\u001b[39;49m\u001b[43m,\u001b[49m\u001b[38;5;124;43m'\u001b[39;49m\u001b[38;5;124;43mAEIOU\u001b[39;49m\u001b[38;5;124;43m'\u001b[39;49m\u001b[43m)\u001b[49m\n",
      "\u001b[1;31mTypeError\u001b[0m: translate() takes exactly one argument (2 given)"
     ]
    }
   ],
   "source": [
    "name.translate('aeiou','AEIOU')"
   ]
  },
  {
   "cell_type": "code",
   "execution_count": 75,
   "id": "248335f7",
   "metadata": {},
   "outputs": [
    {
     "data": {
      "text/plain": [
       "97"
      ]
     },
     "execution_count": 75,
     "metadata": {},
     "output_type": "execute_result"
    }
   ],
   "source": [
    "ord('a')"
   ]
  },
  {
   "cell_type": "code",
   "execution_count": 76,
   "id": "3bc3db67",
   "metadata": {},
   "outputs": [
    {
     "data": {
      "text/plain": [
       "65"
      ]
     },
     "execution_count": 76,
     "metadata": {},
     "output_type": "execute_result"
    }
   ],
   "source": [
    "ord('A')"
   ]
  },
  {
   "cell_type": "code",
   "execution_count": 77,
   "id": "aa9d79cb",
   "metadata": {},
   "outputs": [
    {
     "data": {
      "text/plain": [
       "'RAghul RAmesh'"
      ]
     },
     "execution_count": 77,
     "metadata": {},
     "output_type": "execute_result"
    }
   ],
   "source": [
    "name.translate({97:65})"
   ]
  },
  {
   "cell_type": "code",
   "execution_count": 79,
   "id": "9884708f",
   "metadata": {},
   "outputs": [],
   "source": [
    "mychange=name.maketrans('aeiou','AEIOU')"
   ]
  },
  {
   "cell_type": "code",
   "execution_count": 80,
   "id": "aeda8723",
   "metadata": {},
   "outputs": [
    {
     "data": {
      "text/plain": [
       "'RAghUl RAmEsh'"
      ]
     },
     "execution_count": 80,
     "metadata": {},
     "output_type": "execute_result"
    }
   ],
   "source": [
    "name.translate(mychange)"
   ]
  },
  {
   "cell_type": "code",
   "execution_count": 81,
   "id": "c6d30428",
   "metadata": {},
   "outputs": [
    {
     "data": {
      "text/plain": [
       "{97: 65, 101: 69, 105: 73, 111: 79, 117: 85}"
      ]
     },
     "execution_count": 81,
     "metadata": {},
     "output_type": "execute_result"
    }
   ],
   "source": [
    "mychange"
   ]
  },
  {
   "cell_type": "code",
   "execution_count": 82,
   "id": "1bf0c4ba",
   "metadata": {},
   "outputs": [
    {
     "data": {
      "text/plain": [
       "'RAghUl RAmEsh'"
      ]
     },
     "execution_count": 82,
     "metadata": {},
     "output_type": "execute_result"
    }
   ],
   "source": [
    "name.translate(name.maketrans('aeiou','AEIOU'))"
   ]
  },
  {
   "cell_type": "code",
   "execution_count": 84,
   "id": "4c36ba61",
   "metadata": {},
   "outputs": [
    {
     "data": {
      "text/plain": [
       "dict"
      ]
     },
     "execution_count": 84,
     "metadata": {},
     "output_type": "execute_result"
    }
   ],
   "source": [
    "type(mychange)"
   ]
  },
  {
   "cell_type": "code",
   "execution_count": null,
   "id": "c7996dea",
   "metadata": {},
   "outputs": [],
   "source": []
  }
 ],
 "metadata": {
  "kernelspec": {
   "display_name": "Python 3 (ipykernel)",
   "language": "python",
   "name": "python3"
  },
  "language_info": {
   "codemirror_mode": {
    "name": "ipython",
    "version": 3
   },
   "file_extension": ".py",
   "mimetype": "text/x-python",
   "name": "python",
   "nbconvert_exporter": "python",
   "pygments_lexer": "ipython3",
   "version": "3.8.10"
  }
 },
 "nbformat": 4,
 "nbformat_minor": 5
}
